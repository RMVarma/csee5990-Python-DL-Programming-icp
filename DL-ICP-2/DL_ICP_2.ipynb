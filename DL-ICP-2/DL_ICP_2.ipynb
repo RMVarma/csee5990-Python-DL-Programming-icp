{
  "nbformat": 4,
  "nbformat_minor": 0,
  "metadata": {
    "colab": {
      "name": "DL-ICP-2.ipynb",
      "provenance": [],
      "collapsed_sections": []
    },
    "kernelspec": {
      "name": "python3",
      "display_name": "Python 3"
    },
    "accelerator": "GPU"
  },
  "cells": [
    {
      "cell_type": "markdown",
      "metadata": {
        "id": "OfI1eOEvnr2f",
        "colab_type": "text"
      },
      "source": [
        "**From uper Menu choose:**\n",
        "---\n",
        "Runtime --> Change runtime type:\n",
        "---\n",
        "change Hardare accelerator to (gpu)"
      ]
    },
    {
      "cell_type": "code",
      "metadata": {
        "id": "Ry7NRUf0llQ8",
        "colab_type": "code",
        "outputId": "9ee75e41-5538-49d0-ca90-b2940b024545",
        "colab": {
          "base_uri": "https://localhost:8080/",
          "height": 121
        }
      },
      "source": [
        "%tensorflow_version 1.15\n",
        "import tensorflow as tf\n",
        "from keras import Sequential\n",
        "from keras.datasets import mnist\n",
        "import numpy as np\n",
        "from keras.layers import Dense\n",
        "from keras.utils import to_categorical"
      ],
      "execution_count": 1,
      "outputs": [
        {
          "output_type": "stream",
          "text": [
            "`%tensorflow_version` only switches the major version: 1.x or 2.x.\n",
            "You set: `1.15`. This will be interpreted as: `1.x`.\n",
            "\n",
            "\n",
            "TensorFlow 1.x selected.\n"
          ],
          "name": "stdout"
        },
        {
          "output_type": "stream",
          "text": [
            "Using TensorFlow backend.\n"
          ],
          "name": "stderr"
        }
      ]
    },
    {
      "cell_type": "code",
      "metadata": {
        "id": "XReLyY3jlr-R",
        "colab_type": "code",
        "outputId": "c23632e3-170f-421e-c1b6-dedbdd70b340",
        "colab": {
          "base_uri": "https://localhost:8080/",
          "height": 52
        }
      },
      "source": [
        "(train_images,train_labels),(test_images, test_labels) = mnist.load_data()"
      ],
      "execution_count": 2,
      "outputs": [
        {
          "output_type": "stream",
          "text": [
            "Downloading data from https://s3.amazonaws.com/img-datasets/mnist.npz\n",
            "11493376/11490434 [==============================] - 0s 0us/step\n"
          ],
          "name": "stdout"
        }
      ]
    },
    {
      "cell_type": "code",
      "metadata": {
        "id": "RrEOE2a_luF1",
        "colab_type": "code",
        "outputId": "8bfc6c34-0707-4eb9-915a-8c0d710b9315",
        "colab": {
          "base_uri": "https://localhost:8080/",
          "height": 35
        }
      },
      "source": [
        "print(train_images.shape[1:])"
      ],
      "execution_count": 3,
      "outputs": [
        {
          "output_type": "stream",
          "text": [
            "(28, 28)\n"
          ],
          "name": "stdout"
        }
      ]
    },
    {
      "cell_type": "markdown",
      "metadata": {
        "id": "oi1noKXWl0E4",
        "colab_type": "text"
      },
      "source": [
        "#process the data\n",
        "#1. convert each image of shape 28*28 to 784 dimensional which will be fed to the network as a single feature"
      ]
    },
    {
      "cell_type": "code",
      "metadata": {
        "id": "3KcvF2qFlwhr",
        "colab_type": "code",
        "outputId": "f69567b6-572f-4854-ced0-38725003cb98",
        "colab": {
          "base_uri": "https://localhost:8080/",
          "height": 35
        }
      },
      "source": [
        "dimData = np.prod(train_images.shape[1:])\n",
        "print(dimData)\n",
        "train_data = train_images.reshape(train_images.shape[0],dimData)\n",
        "test_data = test_images.reshape(test_images.shape[0],dimData)"
      ],
      "execution_count": 5,
      "outputs": [
        {
          "output_type": "stream",
          "text": [
            "784\n"
          ],
          "name": "stdout"
        }
      ]
    },
    {
      "cell_type": "markdown",
      "metadata": {
        "id": "CI3BKhj0l3fd",
        "colab_type": "text"
      },
      "source": [
        "#convert data to float and scale values between 0 and 1"
      ]
    },
    {
      "cell_type": "code",
      "metadata": {
        "id": "G_XcNfVfl1jH",
        "colab_type": "code",
        "colab": {}
      },
      "source": [
        "train_data = train_data.astype('float')\n",
        "test_data = test_data.astype('float')"
      ],
      "execution_count": 0,
      "outputs": []
    },
    {
      "cell_type": "markdown",
      "metadata": {
        "id": "ODdo3u8Ql8c8",
        "colab_type": "text"
      },
      "source": [
        "#scale data"
      ]
    },
    {
      "cell_type": "code",
      "metadata": {
        "id": "nky9C9FMl7BU",
        "colab_type": "code",
        "colab": {}
      },
      "source": [
        "train_data /=255.0\n",
        "test_data /=255.0"
      ],
      "execution_count": 0,
      "outputs": []
    },
    {
      "cell_type": "markdown",
      "metadata": {
        "id": "PVc9dRURl_oo",
        "colab_type": "text"
      },
      "source": [
        "#change the labels frominteger to one-hot encoding. to_categorical is doing the same thing as LabelEncoder()"
      ]
    },
    {
      "cell_type": "code",
      "metadata": {
        "id": "iGTKxNyYl-nE",
        "colab_type": "code",
        "colab": {}
      },
      "source": [
        "train_labels_one_hot = to_categorical(train_labels)\n",
        "test_labels_one_hot = to_categorical(test_labels)"
      ],
      "execution_count": 0,
      "outputs": []
    },
    {
      "cell_type": "markdown",
      "metadata": {
        "id": "1YFoN0z6mEbR",
        "colab_type": "text"
      },
      "source": [
        "#creating network"
      ]
    },
    {
      "cell_type": "code",
      "metadata": {
        "id": "9ui43p57mCgk",
        "colab_type": "code",
        "colab": {}
      },
      "source": [
        "model = Sequential()\n",
        "model.add(Dense(512, activation='relu', input_shape=(dimData,)))\n",
        "model.add(Dense(512, activation='relu'))\n",
        "model.add(Dense(10, activation='softmax'))"
      ],
      "execution_count": 0,
      "outputs": []
    },
    {
      "cell_type": "markdown",
      "metadata": {
        "id": "538_9WbGmp5a",
        "colab_type": "text"
      },
      "source": [
        "# Compile model"
      ]
    },
    {
      "cell_type": "code",
      "metadata": {
        "id": "ck4tEWPMmG0j",
        "colab_type": "code",
        "colab": {}
      },
      "source": [
        "model.compile(optimizer='rmsprop', loss='categorical_crossentropy', metrics=['accuracy'])"
      ],
      "execution_count": 0,
      "outputs": []
    },
    {
      "cell_type": "code",
      "metadata": {
        "id": "rsNP_elemr_i",
        "colab_type": "code",
        "outputId": "5880a0e3-444f-414d-df92-5245836ab658",
        "colab": {
          "base_uri": "https://localhost:8080/",
          "height": 381
        }
      },
      "source": [
        "history = model.fit(train_data, train_labels_one_hot, batch_size=256, epochs=10, verbose=1,\n",
        "                   validation_data=(test_data, test_labels_one_hot))"
      ],
      "execution_count": 18,
      "outputs": [
        {
          "output_type": "stream",
          "text": [
            "Train on 60000 samples, validate on 10000 samples\n",
            "Epoch 1/10\n",
            "60000/60000 [==============================] - 1s 23us/step - loss: 0.2786 - acc: 0.9135 - val_loss: 0.1372 - val_acc: 0.9566\n",
            "Epoch 2/10\n",
            "60000/60000 [==============================] - 1s 17us/step - loss: 0.0926 - acc: 0.9718 - val_loss: 0.0852 - val_acc: 0.9733\n",
            "Epoch 3/10\n",
            "60000/60000 [==============================] - 1s 16us/step - loss: 0.0588 - acc: 0.9817 - val_loss: 0.0776 - val_acc: 0.9748\n",
            "Epoch 4/10\n",
            "60000/60000 [==============================] - 1s 17us/step - loss: 0.0398 - acc: 0.9874 - val_loss: 0.0730 - val_acc: 0.9785\n",
            "Epoch 5/10\n",
            "60000/60000 [==============================] - 1s 16us/step - loss: 0.0294 - acc: 0.9904 - val_loss: 0.0681 - val_acc: 0.9804\n",
            "Epoch 6/10\n",
            "60000/60000 [==============================] - 1s 17us/step - loss: 0.0219 - acc: 0.9930 - val_loss: 0.0827 - val_acc: 0.9780\n",
            "Epoch 7/10\n",
            "60000/60000 [==============================] - 1s 16us/step - loss: 0.0176 - acc: 0.9942 - val_loss: 0.1415 - val_acc: 0.9643\n",
            "Epoch 8/10\n",
            "60000/60000 [==============================] - 1s 16us/step - loss: 0.0136 - acc: 0.9953 - val_loss: 0.0735 - val_acc: 0.9833\n",
            "Epoch 9/10\n",
            "60000/60000 [==============================] - 1s 19us/step - loss: 0.0108 - acc: 0.9965 - val_loss: 0.1100 - val_acc: 0.9770\n",
            "Epoch 10/10\n",
            "60000/60000 [==============================] - 1s 19us/step - loss: 0.0107 - acc: 0.9966 - val_loss: 0.0938 - val_acc: 0.9811\n"
          ],
          "name": "stdout"
        }
      ]
    },
    {
      "cell_type": "code",
      "metadata": {
        "id": "Ld87-pHSnODK",
        "colab_type": "code",
        "outputId": "8d1f6584-5ccc-4b76-cb70-1d6354c0f916",
        "colab": {
          "base_uri": "https://localhost:8080/",
          "height": 1000
        }
      },
      "source": [
        "from keras import Sequential\n",
        "from keras.datasets import mnist\n",
        "import numpy as np\n",
        "import matplotlib.pyplot as plt\n",
        "from keras.layers import Dense\n",
        "from keras.utils import to_categorical\n",
        "\n",
        "(train_images,train_labels),(test_images, test_labels) = mnist.load_data()\n",
        "#display the first image in the training data\n",
        "plt.imshow(train_images[0,:,:],cmap='gray')\n",
        "plt.title('Ground Truth : {}'.format(train_labels[0]))\n",
        "plt.show()\n",
        "\n",
        "#process the data\n",
        "#1. convert each image of shape 28*28 to 784 dimensional which will be fed to the network as a single feature\n",
        "dimData = np.prod(train_images.shape[1:])\n",
        "train_data = train_images.reshape(train_images.shape[0],dimData)\n",
        "test_data = test_images.reshape(test_images.shape[0],dimData)\n",
        "\n",
        "#convert data to float and scale values between 0 and 1\n",
        "train_data = train_data.astype('float')\n",
        "test_data = test_data.astype('float')\n",
        "#scale data\n",
        "train_data /=255.0\n",
        "test_data /=255.0\n",
        "#change the labels frominteger to one-hot encoding\n",
        "train_labels_one_hot = to_categorical(train_labels)\n",
        "test_labels_one_hot = to_categorical(test_labels)\n",
        "\n",
        "#creating network\n",
        "model = Sequential()\n",
        "model.add(Dense(512, activation='relu', input_shape=(dimData,)))\n",
        "model.add(Dense(512, activation='relu'))\n",
        "model.add(Dense(10, activation='softmax'))\n",
        "\n",
        "model.compile(optimizer='rmsprop', loss='categorical_crossentropy', metrics=['accuracy'])\n",
        "history = model.fit(train_data, train_labels_one_hot, batch_size=256, epochs=5, verbose=1,\n",
        "                   validation_data=(test_data, test_labels_one_hot))\n",
        "\n",
        "print(model.predict_classes(test_data[[0],:]))\n",
        "plt.imshow(test_images[0,:,:],cmap='gray')\n",
        "plt.title('Prediction : '+str((model.predict_classes(test_data[[0],:]))[0]))\n",
        "plt.show()\n",
        "\n",
        "[test_loss, test_acc] = model.evaluate(test_data, test_labels_one_hot)\n",
        "print(\"Evaluation result on Test Data : Loss = {}, accuracy = {}\".format(test_loss, test_acc))\n",
        "\n",
        "N = 5\n",
        "plt.style.use(\"ggplot\")\n",
        "plt.figure()\n",
        "plt.plot(np.arange(0, N), history.history[\"loss\"], label=\"train_loss\")\n",
        "plt.plot(np.arange(0, N), history.history[\"val_loss\"], label=\"test_loss\")\n",
        "plt.plot(np.arange(0, N), history.history[\"acc\"], label=\"train_acc\")\n",
        "plt.plot(np.arange(0, N), history.history[\"val_acc\"], label=\"test_acc\")\n",
        "plt.title(\"Training Loss and Accuracy on Dataset\")\n",
        "plt.xlabel(\"Epoch #\")\n",
        "plt.ylabel(\"Loss/Accuracy\")\n",
        "plt.legend(loc=\"lower left\")\n",
        "plt.show()"
      ],
      "execution_count": 23,
      "outputs": [
        {
          "output_type": "display_data",
          "data": {
            "image/png": "[encoded data removed]",
            "text/plain": [
              "<Figure size 432x288 with 1 Axes>"
            ]
          },
          "metadata": {
            "tags": []
          }
        },
        {
          "output_type": "stream",
          "text": [
            "Train on 60000 samples, validate on 10000 samples\n",
            "Epoch 1/5\n",
            "60000/60000 [==============================] - 1s 23us/step - loss: 0.2715 - acc: 0.9176 - val_loss: 0.1543 - val_acc: 0.9527\n",
            "Epoch 2/5\n",
            "60000/60000 [==============================] - 1s 18us/step - loss: 0.0933 - acc: 0.9704 - val_loss: 0.0775 - val_acc: 0.9766\n",
            "Epoch 3/5\n",
            "60000/60000 [==============================] - 1s 16us/step - loss: 0.0577 - acc: 0.9815 - val_loss: 0.0766 - val_acc: 0.9753\n",
            "Epoch 4/5\n",
            "60000/60000 [==============================] - 1s 17us/step - loss: 0.0410 - acc: 0.9867 - val_loss: 0.0647 - val_acc: 0.9798\n",
            "Epoch 5/5\n",
            "60000/60000 [==============================] - 1s 18us/step - loss: 0.0291 - acc: 0.9901 - val_loss: 0.0767 - val_acc: 0.9768\n",
            "[7]\n"
          ],
          "name": "stdout"
        },
        {
          "output_type": "display_data",
          "data": {
            "image/png": "[encoded data removed]",
            "text/plain": [
              "<Figure size 432x288 with 1 Axes>"
            ]
          },
          "metadata": {
            "tags": []
          }
        },
        {
          "output_type": "stream",
          "text": [
            "10000/10000 [==============================] - 0s 42us/step\n",
            "Evaluation result on Test Data : Loss = 0.07666618559749913, accuracy = 0.9768\n"
          ],
          "name": "stdout"
        },
        {
          "output_type": "display_data",
          "data": {
            "image/png": "[encoded data removed]",
            "text/plain": [
              "<Figure size 432x288 with 1 Axes>"
            ]
          },
          "metadata": {
            "tags": []
          }
        }
      ]
    },
    {
      "cell_type": "code",
      "metadata": {
        "id": "5dmbW_-Y_vXY",
        "colab_type": "code",
        "outputId": "a6357ca3-39d4-4220-9d9b-6bdbd9f8ef27",
        "colab": {
          "base_uri": "https://localhost:8080/",
          "height": 1000
        }
      },
      "source": [
        "from keras import Sequential\n",
        "from keras.datasets import mnist\n",
        "import numpy as np\n",
        "import matplotlib.pyplot as plt\n",
        "from keras.layers import Dense\n",
        "from keras.utils import to_categorical\n",
        "\n",
        "(train_images,train_labels),(test_images, test_labels) = mnist.load_data()\n",
        "#display the first image in the training data\n",
        "plt.imshow(train_images[0,:,:],cmap='gray')\n",
        "plt.title('Ground Truth : {}'.format(train_labels[0]))\n",
        "plt.show()\n",
        "\n",
        "#process the data\n",
        "#1. convert each image of shape 28*28 to 784 dimensional which will be fed to the network as a single feature\n",
        "dimData = np.prod(train_images.shape[1:])\n",
        "train_data = train_images.reshape(train_images.shape[0],dimData)\n",
        "test_data = test_images.reshape(test_images.shape[0],dimData)\n",
        "\n",
        "#convert data to float and scale values between 0 and 1\n",
        "train_data = train_data.astype('float')\n",
        "test_data = test_data.astype('float')\n",
        "#scale data\n",
        "train_data /=255.0\n",
        "test_data /=255.0\n",
        "#change the labels frominteger to one-hot encoding\n",
        "train_labels_one_hot = to_categorical(train_labels)\n",
        "test_labels_one_hot = to_categorical(test_labels)\n",
        "\n",
        "#creating network\n",
        "model = Sequential()\n",
        "model.add(Dense(512, activation='tanh', input_shape=(dimData,)))\n",
        "model.add(Dense(512, activation='tanh'))\n",
        "model.add(Dense(512, activation='tanh'))\n",
        "model.add(Dense(10, activation='softmax'))\n",
        "\n",
        "model.compile(optimizer='rmsprop', loss='categorical_crossentropy', metrics=['accuracy'])\n",
        "history = model.fit(train_data, train_labels_one_hot, batch_size=256, epochs=5, verbose=1,\n",
        "                   validation_data=(test_data, test_labels_one_hot))\n",
        "\n",
        "print(model.predict_classes(test_data[[0],:]))\n",
        "plt.imshow(test_images[0,:,:],cmap='gray')\n",
        "plt.title('Prediction : '+str((model.predict_classes(test_data[[0],:]))[0]))\n",
        "plt.show()\n",
        "\n",
        "[test_loss, test_acc] = model.evaluate(test_data, test_labels_one_hot)\n",
        "print(\"Evaluation result on Test Data : Loss = {}, accuracy = {}\".format(test_loss, test_acc))\n",
        "\n",
        "N = 5\n",
        "plt.style.use(\"ggplot\")\n",
        "plt.figure()\n",
        "plt.plot(np.arange(0, N), history.history[\"loss\"], label=\"train_loss\")\n",
        "plt.plot(np.arange(0, N), history.history[\"val_loss\"], label=\"test_loss\")\n",
        "plt.plot(np.arange(0, N), history.history[\"acc\"], label=\"train_acc\")\n",
        "plt.plot(np.arange(0, N), history.history[\"val_acc\"], label=\"test_acc\")\n",
        "plt.title(\"Training Loss and Accuracy on Dataset\")\n",
        "plt.xlabel(\"Epoch #\")\n",
        "plt.ylabel(\"Loss/Accuracy\")\n",
        "plt.legend(loc=\"lower left\")\n",
        "plt.show()"
      ],
      "execution_count": 24,
      "outputs": [
        {
          "output_type": "display_data",
          "data": {
            "image/png": "[encoded data removed]",
            "text/plain": [
              "<Figure size 432x288 with 1 Axes>"
            ]
          },
          "metadata": {
            "tags": []
          }
        },
        {
          "output_type": "stream",
          "text": [
            "Train on 60000 samples, validate on 10000 samples\n",
            "Epoch 1/5\n",
            "60000/60000 [==============================] - 2s 29us/step - loss: 0.3903 - acc: 0.8790 - val_loss: 0.2280 - val_acc: 0.9323\n",
            "Epoch 2/5\n",
            "60000/60000 [==============================] - 1s 17us/step - loss: 0.1496 - acc: 0.9536 - val_loss: 0.1371 - val_acc: 0.9557\n",
            "Epoch 3/5\n",
            "60000/60000 [==============================] - 1s 18us/step - loss: 0.0965 - acc: 0.9697 - val_loss: 0.1332 - val_acc: 0.9558\n",
            "Epoch 4/5\n",
            "60000/60000 [==============================] - 1s 19us/step - loss: 0.0659 - acc: 0.9788 - val_loss: 0.0941 - val_acc: 0.9702\n",
            "Epoch 5/5\n",
            "60000/60000 [==============================] - 1s 20us/step - loss: 0.0482 - acc: 0.9848 - val_loss: 0.1442 - val_acc: 0.9537\n",
            "[7]\n"
          ],
          "name": "stdout"
        },
        {
          "output_type": "display_data",
          "data": {
            "image/png": "[encoded data removed]",
            "text/plain": [
              "<Figure size 432x288 with 1 Axes>"
            ]
          },
          "metadata": {
            "tags": []
          }
        },
        {
          "output_type": "stream",
          "text": [
            "10000/10000 [==============================] - 0s 38us/step\n",
            "Evaluation result on Test Data : Loss = 0.14421901630815118, accuracy = 0.9537\n"
          ],
          "name": "stdout"
        },
        {
          "output_type": "display_data",
          "data": {
            "image/png": "[encoded data removed]",
            "text/plain": [
              "<Figure size 432x288 with 1 Axes>"
            ]
          },
          "metadata": {
            "tags": []
          }
        }
      ]
    },
    {
      "cell_type": "code",
      "metadata": {
        "id": "RZbVRWkFALj4",
        "colab_type": "code",
        "outputId": "752f5f04-65d7-4523-ed85-c6f75967b263",
        "colab": {
          "base_uri": "https://localhost:8080/",
          "height": 790
        }
      },
      "source": [
        "from keras import Sequential\n",
        "from keras.datasets import mnist\n",
        "import numpy as np\n",
        "import matplotlib.pyplot as plt\n",
        "from keras.layers import Dense\n",
        "from keras.utils import to_categorical\n",
        "\n",
        "(train_images,train_labels),(test_images, test_labels) = mnist.load_data()\n",
        "#display the first image in the training data\n",
        "plt.imshow(train_images[0,:,:],cmap='gray')\n",
        "plt.title('Ground Truth : {}'.format(train_labels[0]))\n",
        "plt.show()\n",
        "\n",
        "#process the data\n",
        "#1. convert each image of shape 28*28 to 784 dimensional which will be fed to the network as a single feature\n",
        "dimData = np.prod(train_images.shape[1:])\n",
        "train_data = train_images.reshape(train_images.shape[0],dimData)\n",
        "test_data = test_images.reshape(test_images.shape[0],dimData)\n",
        "\n",
        "#convert data to float and scale values between 0 and 1\n",
        "train_data = train_data.astype('float')\n",
        "test_data = test_data.astype('float')\n",
        "#change the labels frominteger to one-hot encoding\n",
        "train_labels_one_hot = to_categorical(train_labels)\n",
        "test_labels_one_hot = to_categorical(test_labels)\n",
        "\n",
        "#creating network\n",
        "model = Sequential()\n",
        "model.add(Dense(512, activation='relu', input_shape=(dimData,)))\n",
        "model.add(Dense(512, activation='relu'))\n",
        "model.add(Dense(10, activation='softmax'))\n",
        "\n",
        "model.compile(optimizer='rmsprop', loss='categorical_crossentropy', metrics=['accuracy'])\n",
        "history = model.fit(train_data, train_labels_one_hot, batch_size=256, epochs=5, verbose=1,\n",
        "                   validation_data=(test_data, test_labels_one_hot))\n",
        "\n",
        "print(model.predict_classes(test_data[[0],:]))\n",
        "plt.imshow(test_images[0,:,:],cmap='gray')\n",
        "plt.title('Prediction : '+str((model.predict_classes(test_data[[0],:]))[0]))\n",
        "plt.show()\n",
        "\n",
        "[test_loss, test_acc] = model.evaluate(test_data, test_labels_one_hot)\n",
        "print(\"Evaluation result on Test Data : Loss = {}, accuracy = {}\".format(test_loss, test_acc))"
      ],
      "execution_count": 25,
      "outputs": [
        {
          "output_type": "display_data",
          "data": {
            "image/png": "[encoded data removed]",
            "text/plain": [
              "<Figure size 432x288 with 1 Axes>"
            ]
          },
          "metadata": {
            "tags": []
          }
        },
        {
          "output_type": "stream",
          "text": [
            "Train on 60000 samples, validate on 10000 samples\n",
            "Epoch 1/5\n",
            "60000/60000 [==============================] - 1s 24us/step - loss: 14.5170 - acc: 0.0993 - val_loss: 14.4918 - val_acc: 0.1009\n",
            "Epoch 2/5\n",
            "60000/60000 [==============================] - 1s 16us/step - loss: 14.5200 - acc: 0.0992 - val_loss: 14.4918 - val_acc: 0.1009\n",
            "Epoch 3/5\n",
            "60000/60000 [==============================] - 1s 17us/step - loss: 14.5200 - acc: 0.0992 - val_loss: 14.4918 - val_acc: 0.1009\n",
            "Epoch 4/5\n",
            "60000/60000 [==============================] - 1s 16us/step - loss: 14.5200 - acc: 0.0992 - val_loss: 14.4918 - val_acc: 0.1009\n",
            "Epoch 5/5\n",
            "60000/60000 [==============================] - 1s 17us/step - loss: 14.5200 - acc: 0.0992 - val_loss: 14.4918 - val_acc: 0.1009\n",
            "[9]\n"
          ],
          "name": "stdout"
        },
        {
          "output_type": "display_data",
          "data": {
            "image/png": "[encoded data removed]",
            "text/plain": [
              "<Figure size 432x288 with 1 Axes>"
            ]
          },
          "metadata": {
            "tags": []
          }
        },
        {
          "output_type": "stream",
          "text": [
            "10000/10000 [==============================] - 0s 36us/step\n",
            "Evaluation result on Test Data : Loss = 14.49177936706543, accuracy = 0.1009\n"
          ],
          "name": "stdout"
        }
      ]
    }
  ]
}