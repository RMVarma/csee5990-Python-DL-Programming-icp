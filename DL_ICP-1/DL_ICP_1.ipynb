{
  "nbformat": 4,
  "nbformat_minor": 0,
  "metadata": {
    "colab": {
      "name": "DL_ICP_1.ipynb",
      "provenance": []
    },
    "kernelspec": {
      "name": "python3",
      "display_name": "Python 3"
    }
  },
  "cells": [
    {
      "cell_type": "code",
      "metadata": {
        "id": "pTRagYcvHjDj",
        "colab_type": "code",
        "colab": {}
      },
      "source": [
        "import pandas\n",
        "from keras.models import Sequential\n",
        "from keras.layers.core import Dense, Activation\n",
        "\n",
        "# load dataset\n",
        "from sklearn.model_selection import train_test_split\n",
        "from sklearn.preprocessing import StandardScaler\n",
        "from sklearn.preprocessing import LabelEncoder\n",
        "import pandas as pd\n",
        "import numpy as np"
      ],
      "execution_count": 0,
      "outputs": []
    },
    {
      "cell_type": "code",
      "metadata": {
        "id": "2SwlGl022tnP",
        "colab_type": "code",
        "outputId": "42892a3a-4ba0-41bc-d9ed-6812e3644726",
        "colab": {
          "base_uri": "https://localhost:8080/",
          "height": 121
        }
      },
      "source": [
        "from google.colab import drive\n",
        "drive.mount('/content/drive')"
      ],
      "execution_count": 2,
      "outputs": [
        {
          "output_type": "stream",
          "text": [
            "Go to this URL in a browser: https://accounts.google.com/o/oauth2/auth?client_id=947318989803-6bn6qk8qdgf4n4g3pfee6491hc0brc4i.apps.googleusercontent.com&redirect_uri=urn%3aietf%3awg%3aoauth%3a2.0%3aoob&response_type=code&scope=email%20https%3a%2f%2fwww.googleapis.com%2fauth%2fdocs.test%20https%3a%2f%2fwww.googleapis.com%2fauth%2fdrive%20https%3a%2f%2fwww.googleapis.com%2fauth%2fdrive.photos.readonly%20https%3a%2f%2fwww.googleapis.com%2fauth%2fpeopleapi.readonly\n",
            "\n",
            "Enter your authorization code:\n",
            "··········\n",
            "Mounted at /content/drive\n"
          ],
          "name": "stdout"
        }
      ]
    },
    {
      "cell_type": "code",
      "metadata": {
        "id": "ApzFGDkOHnt7",
        "colab_type": "code",
        "colab": {}
      },
      "source": [
        "dataset = pd.read_csv(\"/content/drive/My Drive/DeepLearning_Lesson1/diabetes.csv\", header=None).values"
      ],
      "execution_count": 0,
      "outputs": []
    },
    {
      "cell_type": "code",
      "metadata": {
        "id": "yt64olkkHwft",
        "colab_type": "code",
        "colab": {}
      },
      "source": [
        "X_train, X_test, Y_train, Y_test = train_test_split(dataset[:,0:8], dataset[:,8], test_size=0.25, random_state=87)"
      ],
      "execution_count": 0,
      "outputs": []
    },
    {
      "cell_type": "code",
      "metadata": {
        "id": "d31zma3SH1KX",
        "colab_type": "code",
        "colab": {}
      },
      "source": [
        "np.random.seed(77)"
      ],
      "execution_count": 0,
      "outputs": []
    },
    {
      "cell_type": "code",
      "metadata": {
        "id": "rMfomxTmH3ww",
        "colab_type": "code",
        "outputId": "4bd394df-458e-415d-96bf-6727f131821f",
        "colab": {
          "base_uri": "https://localhost:8080/",
          "height": 353
        }
      },
      "source": [
        "my_first_nn = Sequential() # create model\n",
        "my_first_nn.add(Dense(64, input_dim=8, activation='relu')) # hidden layer\n",
        "my_first_nn.add(Dense(128, input_dim=8, activation='relu'))\n",
        "my_first_nn.add(Dense(1, activation='sigmoid')) # output layer\n",
        "my_first_nn.compile(loss='binary_crossentropy', optimizer='adam', metrics=['acc'])\n",
        "my_first_nn_fitted = my_first_nn.fit(X_train, Y_train, epochs=10, initial_epoch=0)"
      ],
      "execution_count": 105,
      "outputs": [
        {
          "output_type": "stream",
          "text": [
            "Epoch 1/10\n",
            "576/576 [==============================] - 2s 4ms/step - loss: 5.4566 - acc: 0.6615\n",
            "Epoch 2/10\n",
            "576/576 [==============================] - 0s 61us/step - loss: 5.4566 - acc: 0.6615\n",
            "Epoch 3/10\n",
            "576/576 [==============================] - 0s 59us/step - loss: 5.4566 - acc: 0.6615\n",
            "Epoch 4/10\n",
            "576/576 [==============================] - 0s 53us/step - loss: 5.4566 - acc: 0.6615\n",
            "Epoch 5/10\n",
            "576/576 [==============================] - 0s 58us/step - loss: 5.4566 - acc: 0.6615\n",
            "Epoch 6/10\n",
            "576/576 [==============================] - 0s 59us/step - loss: 5.4566 - acc: 0.6615\n",
            "Epoch 7/10\n",
            "576/576 [==============================] - 0s 64us/step - loss: 5.4566 - acc: 0.6615\n",
            "Epoch 8/10\n",
            "576/576 [==============================] - 0s 64us/step - loss: 5.4566 - acc: 0.6615\n",
            "Epoch 9/10\n",
            "576/576 [==============================] - 0s 67us/step - loss: 5.4566 - acc: 0.6615\n",
            "Epoch 10/10\n",
            "576/576 [==============================] - 0s 57us/step - loss: 5.4566 - acc: 0.6615\n"
          ],
          "name": "stdout"
        }
      ]
    },
    {
      "cell_type": "code",
      "metadata": {
        "id": "19SYVY4DH7OW",
        "colab_type": "code",
        "outputId": "ff9e77c3-187b-48a0-c40a-398c57e26f38",
        "colab": {
          "base_uri": "https://localhost:8080/",
          "height": 302
        }
      },
      "source": [
        "print(my_first_nn.summary())\n",
        "print(my_first_nn.evaluate(X_test, Y_test))"
      ],
      "execution_count": 86,
      "outputs": [
        {
          "output_type": "stream",
          "text": [
            "Model: \"sequential_38\"\n",
            "_________________________________________________________________\n",
            "Layer (type)                 Output Shape              Param #   \n",
            "=================================================================\n",
            "dense_112 (Dense)            (None, 64)                576       \n",
            "_________________________________________________________________\n",
            "dense_113 (Dense)            (None, 128)               8320      \n",
            "_________________________________________________________________\n",
            "dense_114 (Dense)            (None, 1)                 129       \n",
            "=================================================================\n",
            "Total params: 9,025\n",
            "Trainable params: 9,025\n",
            "Non-trainable params: 0\n",
            "_________________________________________________________________\n",
            "None\n",
            "192/192 [==============================] - 1s 4ms/step\n",
            "[0.7357511768738428, 0.671875]\n"
          ],
          "name": "stdout"
        }
      ]
    },
    {
      "cell_type": "code",
      "metadata": {
        "id": "ZnmjM4Fnv-PX",
        "colab_type": "code",
        "colab": {
          "base_uri": "https://localhost:8080/",
          "height": 638
        },
        "outputId": "afc7c019-7d7f-4cb1-9b4e-df337f43c06c"
      },
      "source": [
        "import pandas\n",
        "from keras.models import Sequential\n",
        "from keras.layers.core import Dense, Activation\n",
        "from sklearn.preprocessing import LabelEncoder\n",
        "import numpy as np\n",
        "le = LabelEncoder()\n",
        "from sklearn.preprocessing import StandardScaler\n",
        "scaler =StandardScaler()\n",
        "\n",
        "\n",
        "from sklearn.model_selection import train_test_split\n",
        "import pandas as pd\n",
        "dataset = pd.read_csv(\"/content/drive/My Drive/DeepLearning_Lesson1/breastcancer.csv\").values\n",
        "x = dataset[:,1:2]\n",
        "x = le.fit_transform(x)\n",
        "X_train, X_test, Y_train, Y_test = train_test_split(dataset[:,2:32], x,\n",
        "                                                    test_size=0.25, random_state=87)\n",
        "np.random.seed(77)\n",
        "my_first_nn = Sequential() # create model\n",
        "my_first_nn.add(Dense(64, input_dim=30, activation='relu')) # hidden layer\n",
        "my_first_nn.add(Dense(32, activation='relu'))\n",
        "my_first_nn.add(Dense(1, activation='sigmoid')) # output layer\n",
        "my_first_nn.compile(loss='binary_crossentropy', optimizer='adadelta', metrics=['acc'])\n",
        "my_first_nn_fitted = my_first_nn.fit(X_train, Y_train, epochs=10, initial_epoch=0)\n",
        "print(my_first_nn.summary())\n",
        "print(my_first_nn.evaluate(X_test, Y_test))"
      ],
      "execution_count": 108,
      "outputs": [
        {
          "output_type": "stream",
          "text": [
            "Epoch 1/10\n",
            "426/426 [==============================] - 3s 6ms/step - loss: 6.1294 - acc: 0.6197\n",
            "Epoch 2/10\n",
            "426/426 [==============================] - 0s 70us/step - loss: 6.1294 - acc: 0.6197\n",
            "Epoch 3/10\n",
            "426/426 [==============================] - 0s 65us/step - loss: 6.1294 - acc: 0.6197\n",
            "Epoch 4/10\n",
            "426/426 [==============================] - 0s 64us/step - loss: 6.1294 - acc: 0.6197\n",
            "Epoch 5/10\n",
            "426/426 [==============================] - 0s 65us/step - loss: 6.1294 - acc: 0.6197\n",
            "Epoch 6/10\n",
            "426/426 [==============================] - 0s 63us/step - loss: 6.1294 - acc: 0.6197\n",
            "Epoch 7/10\n",
            "426/426 [==============================] - 0s 63us/step - loss: 6.1294 - acc: 0.6197\n",
            "Epoch 8/10\n",
            "426/426 [==============================] - 0s 69us/step - loss: 6.1294 - acc: 0.6197\n",
            "Epoch 9/10\n",
            "426/426 [==============================] - 0s 74us/step - loss: 6.1294 - acc: 0.6197\n",
            "Epoch 10/10\n",
            "426/426 [==============================] - 0s 67us/step - loss: 6.1294 - acc: 0.6197\n",
            "Model: \"sequential_53\"\n",
            "_________________________________________________________________\n",
            "Layer (type)                 Output Shape              Param #   \n",
            "=================================================================\n",
            "dense_153 (Dense)            (None, 64)                1984      \n",
            "_________________________________________________________________\n",
            "dense_154 (Dense)            (None, 32)                2080      \n",
            "_________________________________________________________________\n",
            "dense_155 (Dense)            (None, 1)                 33        \n",
            "=================================================================\n",
            "Total params: 4,097\n",
            "Trainable params: 4,097\n",
            "Non-trainable params: 0\n",
            "_________________________________________________________________\n",
            "None\n",
            "143/143 [==============================] - 1s 8ms/step\n",
            "[5.635697721601366, 0.6503496532673603]\n"
          ],
          "name": "stdout"
        }
      ]
    }
  ]
}