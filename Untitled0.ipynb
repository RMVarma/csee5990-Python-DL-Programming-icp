{
  "nbformat": 4,
  "nbformat_minor": 0,
  "metadata": {
    "colab": {
      "name": "Untitled0.ipynb",
      "provenance": [],
      "mount_file_id": "1KbmX1V3T0-pmob6lnRaUC66GW0EgwuAw",
      "authorship_tag": "ABX9TyNt5iLhkSkXA1vgr6Eoi0yX",
      "include_colab_link": true
    },
    "kernelspec": {
      "name": "python3",
      "display_name": "Python 3"
    }
  },
  "cells": [
    {
      "cell_type": "markdown",
      "metadata": {
        "id": "view-in-github",
        "colab_type": "text"
      },
      "source": [
        "<a href=\"https://colab.research.google.com/github/RMVarma/csee5990-Python-DL-Programming-icp/blob/master/Untitled0.ipynb\" target=\"_parent\"><img src=\"https://colab.research.google.com/assets/colab-badge.svg\" alt=\"Open In Colab\"/></a>"
      ]
    },
    {
      "cell_type": "code",
      "metadata": {
        "id": "jIYkCt2h3LMl",
        "colab_type": "code",
        "colab": {
          "base_uri": "https://localhost:8080/",
          "height": 87
        },
        "outputId": "83a0fb77-ede7-42f8-fd7b-ed05d6929816"
      },
      "source": [
        "import pandas as pd\n",
        "from sklearn.svm import SVC, LinearSVC\n",
        "from sklearn.neighbors import KNeighborsClassifier\n",
        "\n",
        "\n",
        "train_df = pd.read_csv('/content/drive/My Drive/Python_Lesson4/train_preprocessed.csv')\n",
        "test_df = pd.read_csv('/content/drive/My Drive/Python_Lesson4/test_preprocessed.csv')\n",
        "X_train = train_df.drop(\"Survived\",axis=1)\n",
        "Y_train = train_df[\"Survived\"]\n",
        "X_test = test_df.drop(\"PassengerId\",axis=1).copy()\n",
        "print(train_df[train_df.isnull().any(axis=1)])\n",
        "\n",
        "\n",
        "##KNN\n",
        "knn = KNeighborsClassifier(n_neighbors = 3)\n",
        "knn.fit(X_train, Y_train)\n",
        "Y_pred = knn.predict(X_test)\n",
        "acc_knn = round(knn.score(X_train, Y_train) * 100, 2)\n",
        "print(\"KNN accuracy is:\",acc_knn)\n"
      ],
      "execution_count": 8,
      "outputs": [
        {
          "output_type": "stream",
          "text": [
            "Empty DataFrame\n",
            "Columns: [Survived, Pclass, Sex, Age, Fare, Embarked]\n",
            "Index: []\n",
            "KNN accuracy is: 83.5\n"
          ],
          "name": "stdout"
        }
      ]
    },
    {
      "cell_type": "code",
      "metadata": {
        "id": "ku3eJ7Wq8FXa",
        "colab_type": "code",
        "colab": {
          "base_uri": "https://localhost:8080/",
          "height": 87
        },
        "outputId": "cdd55b86-db85-49fa-e752-6851b4ff489e"
      },
      "source": [
        "import pandas as pd\n",
        "from sklearn.svm import SVC, LinearSVC\n",
        "from sklearn.neighbors import KNeighborsClassifier\n",
        "\n",
        "\n",
        "train_df = pd.read_csv('/content/drive/My Drive/Python_Lesson4/train_preprocessed.csv')\n",
        "test_df = pd.read_csv('/content/drive/My Drive/Python_Lesson4/test_preprocessed.csv')\n",
        "X_train = train_df.drop(\"Survived\",axis=1)\n",
        "Y_train = train_df[\"Survived\"]\n",
        "X_test = test_df.drop(\"PassengerId\",axis=1).copy()\n",
        "print(train_df[train_df.isnull().any(axis=1)])\n",
        "\n",
        "##SVM\n",
        "svc = SVC()\n",
        "svc.fit(X_train, Y_train)\n",
        "Y_pred = svc.predict(X_test)\n",
        "acc_svc = round(svc.score(X_train, Y_train) * 100, 2)\n",
        "print(\"svm accuracy is:\", acc_svc)"
      ],
      "execution_count": 9,
      "outputs": [
        {
          "output_type": "stream",
          "text": [
            "Empty DataFrame\n",
            "Columns: [Survived, Pclass, Sex, Age, Fare, Embarked]\n",
            "Index: []\n",
            "svm accuracy is: 68.35\n"
          ],
          "name": "stdout"
        }
      ]
    }
  ]
}